{
 "cells": [
  {
   "cell_type": "code",
   "execution_count": 9,
   "metadata": {},
   "outputs": [
    {
     "name": "stdout",
     "output_type": "stream",
     "text": [
      "0.9736842105263158\n"
     ]
    }
   ],
   "source": [
    "#인공지능 기초 / 머신러닝\n",
    "\n",
    "#인공지능 > 머신러닝 > 딥러닝\n",
    "#머신러닝 - 지도학습 , 비지도학습 , 강화학습 / 딥러닝은 어디던 다 섞일 수 있다.\n",
    "\n",
    "#지도학습 - 답을 미리 알려주고 학습 ex ) 개 , 고양이 분류하기\n",
    "#비지도학습 - 답을 모르는 상태에서 학습 ex) 그룹 나누기\n",
    "#강화학습 - 백지 상태에서 스스로 학습하도록 함 , 어떤 환경에서 보상을 최대화 하는\n",
    "#결정을 통해 학습해 나아감 / ex ) 알파고\n",
    "\n",
    "from sklearn.svm import SVC\n",
    "import pandas as pd\n",
    "from sklearn.model_selection import train_test_split # tr , va 데이터 가르기\n",
    "from sklearn.metrics import accuracy_score # 정확도 테스트\n",
    "\n",
    "df = pd.read_csv(\"./iris.csv\")\n",
    "label = df[\"variety\"]\n",
    "data = df[[\"sepal.length\", \"sepal.width\", \"petal.length\", \"petal.width\"]]\n",
    "train_data, valid_data, train_label, valid_label = train_test_split(data, label)\n",
    "#데이터 셋을 tr과 va로 분류해서 따로 사용한다.\n",
    "\n",
    "#서포트 벡터 머신을 통해 학습시키기 / 분류 알고리즘 ( CLASSIFIER )\n",
    "model = SVC()\n",
    "model.fit(train_data, train_label)\n",
    "\n",
    "#predict를 통해 학습된 서포트 벡터 머신에 질문을 한다.\n",
    "#질문 할때 인자 순서는 언제나 위의 피쳐 순서와 같게 한다.\n",
    "result = model.predict(valid_data)\n",
    "score = accuracy_score(result, valid_label) # 정확도 검사 함수\n",
    "print(score)\n",
    "\n",
    "#지도 학습은 언제나 tr_data 와 va_data로 나누어 검증하는 과정이 필요하다."
   ]
  },
  {
   "cell_type": "code",
   "execution_count": 10,
   "metadata": {},
   "outputs": [
    {
     "name": "stdout",
     "output_type": "stream",
     "text": [
      "8835.967753149467\n"
     ]
    }
   ],
   "source": [
    "#지도학습 기초 - Regression\n",
    "\n",
    "from sklearn.linear_model import LinearRegression\n",
    "import pandas as pd\n",
    "from sklearn.model_selection import train_test_split # tr , va 데이터 가르기\n",
    "from sklearn.metrics import mean_squared_error \n",
    "\n",
    "df = pd.read_csv(\"./Airbnb.csv\")\n",
    "label = df[\"price\"]\n",
    "data = df.iloc[: ,0:6] # 판다스의 슬라이스 기능 , 기초중에 기초다.\n",
    "train_data, valid_data, train_label, valid_label = train_test_split(data, label)\n",
    "\n",
    "#리니어 리그레션 / 선형회귀\n",
    "model = LinearRegression()\n",
    "model.fit(train_data, train_label)\n",
    "\n",
    "result = model.predict(valid_data)\n",
    "\n",
    "\n",
    "score = mean_squared_error(result, valid_label) ** (1/2) # 정확도 검사 함수\n",
    "#MSE 이기 떄문에 루트를 씌워서 보도록 하자./ MSE는 에러이기 떄문에 작을 수록 좋다.\n",
    "print(score)\n",
    "\n",
    "#이후 예측하고 싶다면 가격 , 위치 등등 숙소의 정보를 피쳐로 입력해서 예측한 모델로 예측가격을 확인하면 된다."
   ]
  }
 ],
 "metadata": {
  "kernelspec": {
   "display_name": "Python 3",
   "language": "python",
   "name": "python3"
  },
  "language_info": {
   "codemirror_mode": {
    "name": "ipython",
    "version": 3
   },
   "file_extension": ".py",
   "mimetype": "text/x-python",
   "name": "python",
   "nbconvert_exporter": "python",
   "pygments_lexer": "ipython3",
   "version": "3.8.5"
  }
 },
 "nbformat": 4,
 "nbformat_minor": 4
}
